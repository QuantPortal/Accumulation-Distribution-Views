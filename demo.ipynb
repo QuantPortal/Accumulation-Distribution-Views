# QuantPortal's Strategy Sample

## Abstract

The aim of this notebook is to ...
- Experiment with a basic ipynb environment
- Test some of the data flow features on an introductry level
- Perhaps work with the Jupyter Notebook Embeddable Tutorials
- See techniques for how to sync with some financial data explorers


# Prerequisites 

- [Jupyter Notebook](https://jupyter.org/)
- [Data Explorer APIs](https://duckduckgo.com/?q=Data+explorer+apis&t=hk&ia=web)


# Next step

- [qlib SG](https://qlib.alphien.com/qlibv4/RFunctionEditor)
- [RStudio](https://lab.alphien.com/)

# Table of content

[1. Loading Alphien's function](#load)<br>
[2. Loading Market Data](#sec2)<br>
[3. Looking at the Fundementals](#sec3)<br>
[4. Running Simulations](#sec4)<br>


<a id='load'></a>
# 1. Loading Alphien's function

.sourceQlib()

<a id='sec2'></a>
# 2. Loading Market Data

options(repr.plot.width = 7, repr.plot.height = 4.5)
plotAl(getDataAl("FIN"), title="FIN", color = "dark green")

## 2.1 Data Access

bb = getBB("FIN")
getBB("FIN", zoom="2020-05-26::2020-08-26", field="Close Price")

## 2.2 Data Analysis

 bbGC = getBB("GC")
 indGC = smaCross(bbGC)
 tail(indGC)
 chartIndicator("GC",indGC,zoom="2015::",emaLength = c(60,240))
### This is Alphien's basic sample

<a id='sec3'></a>
# 3. Looking at the Fundementals

library(quadprog)

<a id='sec4'></a>
# 4. Running Simulations

port = portfolio(list("FIN"))

retMatrix = getStrategyReturns(port)
tail(retMatrix)
